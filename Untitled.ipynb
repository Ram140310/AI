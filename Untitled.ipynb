{
 "cells": [
  {
   "cell_type": "code",
   "execution_count": 1,
   "id": "b6cb07eb",
   "metadata": {},
   "outputs": [],
   "source": [
    "import re\n",
    "import numpy as np"
   ]
  },
  {
   "cell_type": "code",
   "execution_count": 3,
   "id": "648e4392",
   "metadata": {},
   "outputs": [],
   "source": [
    "def unique_word(text:list):\n",
    "    '''A method that creates a dict with keys as unique words and \n",
    "    values are index numbers'''\n",
    "    words=list(set(text))\n",
    "    words.sort()\n",
    "    unique={}\n",
    "    for i,word in enumerate(words):\n",
    "        unique.update({word:i})\n",
    "    return unique"
   ]
  },
  {
   "cell_type": "code",
   "execution_count": 4,
   "id": "132a56b6",
   "metadata": {},
   "outputs": [
    {
     "data": {
      "text/plain": [
       "{'is': 0, 'my': 1, 'text': 2, 'this': 3}"
      ]
     },
     "execution_count": 4,
     "metadata": {},
     "output_type": "execute_result"
    }
   ],
   "source": [
    "unique_word(['this','is','my','text'])"
   ]
  },
  {
   "cell_type": "code",
   "execution_count": 6,
   "id": "cbbbf069",
   "metadata": {},
   "outputs": [
    {
     "data": {
      "text/plain": [
       "'!\"#$%&\\'()*+,-./:;<=>?@[\\\\]^_`{|}~'"
      ]
     },
     "execution_count": 6,
     "metadata": {},
     "output_type": "execute_result"
    }
   ],
   "source": [
    "import string\n",
    "string.punctuation"
   ]
  },
  {
   "cell_type": "code",
   "execution_count": 17,
   "id": "0559a615",
   "metadata": {},
   "outputs": [],
   "source": [
    "def text_preprocessing(text:list,punctuation=string.punctuation,stop_words=[\"and\",\"a\",\"is\",\"the\",\"in\",\"be\",\"will\"]):\n",
    "    '''this method is used for text preprocessing'''\n",
    "    text=text.lower()\n",
    "    text=re.sub(r'/w*/d/w*','',text) # replacing number in text with empt\n",
    "    text=re.sub(r'[0-9]+','',text) # replacing numbers with empty strings\n",
    "    text=text.split()\n",
    "    text=[x for x in text if x!=' ']  # removing empty strings\n",
    "    text=[x for x in text if x not in stop_words]\n",
    "    return text"
   ]
  },
  {
   "cell_type": "code",
   "execution_count": 18,
   "id": "9c94c0d6",
   "metadata": {},
   "outputs": [
    {
     "data": {
      "text/plain": [
       "['this', 'text', 'has', 'numbers', 'that', 'are']"
      ]
     },
     "execution_count": 18,
     "metadata": {},
     "output_type": "execute_result"
    }
   ],
   "source": [
    "text_preprocessing(\"This text has 2 numbers that are 1 and 2\")"
   ]
  },
  {
   "cell_type": "code",
   "execution_count": null,
   "id": "e2e4808e",
   "metadata": {},
   "outputs": [],
   "source": []
  }
 ],
 "metadata": {
  "kernelspec": {
   "display_name": "Python 3 (ipykernel)",
   "language": "python",
   "name": "python3"
  },
  "language_info": {
   "codemirror_mode": {
    "name": "ipython",
    "version": 3
   },
   "file_extension": ".py",
   "mimetype": "text/x-python",
   "name": "python",
   "nbconvert_exporter": "python",
   "pygments_lexer": "ipython3",
   "version": "3.9.13"
  }
 },
 "nbformat": 4,
 "nbformat_minor": 5
}
